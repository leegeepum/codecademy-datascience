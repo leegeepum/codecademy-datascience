{
 "metadata": {
  "language_info": {
   "codemirror_mode": {
    "name": "ipython",
    "version": 3
   },
   "file_extension": ".py",
   "mimetype": "text/x-python",
   "name": "python",
   "nbconvert_exporter": "python",
   "pygments_lexer": "ipython3",
   "version": "3.7.10"
  },
  "orig_nbformat": 2,
  "kernelspec": {
   "name": "python3710jvsc74a57bd042f1e5588f0bc6c127b7d35917b00f1acb98485ff300911bb5144391c277cdf1",
   "display_name": "Python 3.7.10 64-bit ('base': conda)"
  }
 },
 "nbformat": 4,
 "nbformat_minor": 2,
 "cells": [
  {
   "source": [
    "import pandas as pd\n",
    "import matplotlib.pyplot as plt\n",
    "import seaborn as sns"
   ],
   "cell_type": "code",
   "metadata": {},
   "execution_count": 2,
   "outputs": []
  },
  {
   "cell_type": "code",
   "execution_count": 3,
   "metadata": {},
   "outputs": [],
   "source": [
    "user_data = pd.read_csv(\"files/user_data.csv\")\n",
    "pop_data = pd.read_csv(\"files/pop_data.csv\")"
   ]
  },
  {
   "cell_type": "code",
   "execution_count": 4,
   "metadata": {},
   "outputs": [
    {
     "output_type": "execute_result",
     "data": {
      "text/plain": [
       "              city        education  age\n",
       "0     Brooklyn, NY          college   31\n",
       "1     Brooklyn, NY  graduate degree   31\n",
       "2     Brooklyn, NY  graduate degree   32\n",
       "3     Brooklyn, NY          college   37\n",
       "4     Brooklyn, NY          college   21\n",
       "5       Austin, TX          college   25\n",
       "6      Oakland, CA  graduate degree   29\n",
       "7   Pittsburgh, PA          college   29\n",
       "8   Pittsburgh, PA          college   27\n",
       "9   Pittsburgh, PA  graduate degree   28\n",
       "10        Ames, IA          college   31\n",
       "11      Albany, NY  graduate degree   31\n",
       "12   Lancaster, PA          college   31\n",
       "13        Reno, NV      high school   31\n",
       "14     Houston, TX      high school   31"
      ],
      "text/html": "<div>\n<style scoped>\n    .dataframe tbody tr th:only-of-type {\n        vertical-align: middle;\n    }\n\n    .dataframe tbody tr th {\n        vertical-align: top;\n    }\n\n    .dataframe thead th {\n        text-align: right;\n    }\n</style>\n<table border=\"1\" class=\"dataframe\">\n  <thead>\n    <tr style=\"text-align: right;\">\n      <th></th>\n      <th>city</th>\n      <th>education</th>\n      <th>age</th>\n    </tr>\n  </thead>\n  <tbody>\n    <tr>\n      <th>0</th>\n      <td>Brooklyn, NY</td>\n      <td>college</td>\n      <td>31</td>\n    </tr>\n    <tr>\n      <th>1</th>\n      <td>Brooklyn, NY</td>\n      <td>graduate degree</td>\n      <td>31</td>\n    </tr>\n    <tr>\n      <th>2</th>\n      <td>Brooklyn, NY</td>\n      <td>graduate degree</td>\n      <td>32</td>\n    </tr>\n    <tr>\n      <th>3</th>\n      <td>Brooklyn, NY</td>\n      <td>college</td>\n      <td>37</td>\n    </tr>\n    <tr>\n      <th>4</th>\n      <td>Brooklyn, NY</td>\n      <td>college</td>\n      <td>21</td>\n    </tr>\n    <tr>\n      <th>5</th>\n      <td>Austin, TX</td>\n      <td>college</td>\n      <td>25</td>\n    </tr>\n    <tr>\n      <th>6</th>\n      <td>Oakland, CA</td>\n      <td>graduate degree</td>\n      <td>29</td>\n    </tr>\n    <tr>\n      <th>7</th>\n      <td>Pittsburgh, PA</td>\n      <td>college</td>\n      <td>29</td>\n    </tr>\n    <tr>\n      <th>8</th>\n      <td>Pittsburgh, PA</td>\n      <td>college</td>\n      <td>27</td>\n    </tr>\n    <tr>\n      <th>9</th>\n      <td>Pittsburgh, PA</td>\n      <td>graduate degree</td>\n      <td>28</td>\n    </tr>\n    <tr>\n      <th>10</th>\n      <td>Ames, IA</td>\n      <td>college</td>\n      <td>31</td>\n    </tr>\n    <tr>\n      <th>11</th>\n      <td>Albany, NY</td>\n      <td>graduate degree</td>\n      <td>31</td>\n    </tr>\n    <tr>\n      <th>12</th>\n      <td>Lancaster, PA</td>\n      <td>college</td>\n      <td>31</td>\n    </tr>\n    <tr>\n      <th>13</th>\n      <td>Reno, NV</td>\n      <td>high school</td>\n      <td>31</td>\n    </tr>\n    <tr>\n      <th>14</th>\n      <td>Houston, TX</td>\n      <td>high school</td>\n      <td>31</td>\n    </tr>\n  </tbody>\n</table>\n</div>"
     },
     "metadata": {},
     "execution_count": 4
    }
   ],
   "source": [
    "user_data.head(15)"
   ]
  },
  {
   "cell_type": "code",
   "execution_count": 5,
   "metadata": {},
   "outputs": [
    {
     "output_type": "execute_result",
     "data": {
      "text/plain": [
       "                  city  population_proper\n",
       "0    Prairie Ridge, WA                NaN\n",
       "1           Edison, WA                NaN\n",
       "2         Packwood, WA                NaN\n",
       "3   Wautauga Beach, WA                NaN\n",
       "4           Harper, WA                NaN\n",
       "5            Telma, WA                NaN\n",
       "6         Kahlotus, WA              189.0\n",
       "7          Mondovi, WA                NaN\n",
       "8        Washtucna, WA              195.0\n",
       "9    Pleasant Hill, WA                NaN\n",
       "10          Toledo, WA              738.0\n",
       "11          Wabash, WA                NaN\n",
       "12          Renton, WA           100953.0\n",
       "13        Chehalis, WA             7498.0\n",
       "14  Central Valley, WA                NaN"
      ],
      "text/html": "<div>\n<style scoped>\n    .dataframe tbody tr th:only-of-type {\n        vertical-align: middle;\n    }\n\n    .dataframe tbody tr th {\n        vertical-align: top;\n    }\n\n    .dataframe thead th {\n        text-align: right;\n    }\n</style>\n<table border=\"1\" class=\"dataframe\">\n  <thead>\n    <tr style=\"text-align: right;\">\n      <th></th>\n      <th>city</th>\n      <th>population_proper</th>\n    </tr>\n  </thead>\n  <tbody>\n    <tr>\n      <th>0</th>\n      <td>Prairie Ridge, WA</td>\n      <td>NaN</td>\n    </tr>\n    <tr>\n      <th>1</th>\n      <td>Edison, WA</td>\n      <td>NaN</td>\n    </tr>\n    <tr>\n      <th>2</th>\n      <td>Packwood, WA</td>\n      <td>NaN</td>\n    </tr>\n    <tr>\n      <th>3</th>\n      <td>Wautauga Beach, WA</td>\n      <td>NaN</td>\n    </tr>\n    <tr>\n      <th>4</th>\n      <td>Harper, WA</td>\n      <td>NaN</td>\n    </tr>\n    <tr>\n      <th>5</th>\n      <td>Telma, WA</td>\n      <td>NaN</td>\n    </tr>\n    <tr>\n      <th>6</th>\n      <td>Kahlotus, WA</td>\n      <td>189.0</td>\n    </tr>\n    <tr>\n      <th>7</th>\n      <td>Mondovi, WA</td>\n      <td>NaN</td>\n    </tr>\n    <tr>\n      <th>8</th>\n      <td>Washtucna, WA</td>\n      <td>195.0</td>\n    </tr>\n    <tr>\n      <th>9</th>\n      <td>Pleasant Hill, WA</td>\n      <td>NaN</td>\n    </tr>\n    <tr>\n      <th>10</th>\n      <td>Toledo, WA</td>\n      <td>738.0</td>\n    </tr>\n    <tr>\n      <th>11</th>\n      <td>Wabash, WA</td>\n      <td>NaN</td>\n    </tr>\n    <tr>\n      <th>12</th>\n      <td>Renton, WA</td>\n      <td>100953.0</td>\n    </tr>\n    <tr>\n      <th>13</th>\n      <td>Chehalis, WA</td>\n      <td>7498.0</td>\n    </tr>\n    <tr>\n      <th>14</th>\n      <td>Central Valley, WA</td>\n      <td>NaN</td>\n    </tr>\n  </tbody>\n</table>\n</div>"
     },
     "metadata": {},
     "execution_count": 5
    }
   ],
   "source": [
    "pop_data.head(15)"
   ]
  },
  {
   "cell_type": "code",
   "execution_count": 6,
   "metadata": {},
   "outputs": [
    {
     "output_type": "execute_result",
     "data": {
      "text/plain": [
       "              city        education  age  population_proper\n",
       "0     Brooklyn, NY          college   31          2629150.0\n",
       "1     Brooklyn, NY  graduate degree   31          2629150.0\n",
       "2     Brooklyn, NY  graduate degree   32          2629150.0\n",
       "3     Brooklyn, NY          college   37          2629150.0\n",
       "4     Brooklyn, NY          college   21          2629150.0\n",
       "5       Austin, TX          college   25           947890.0\n",
       "6       Austin, TX  graduate degree   22           947890.0\n",
       "7      Oakland, CA  graduate degree   29           420005.0\n",
       "8   Pittsburgh, PA          college   29           303625.0\n",
       "9   Pittsburgh, PA          college   27           303625.0\n",
       "10  Pittsburgh, PA  graduate degree   28           303625.0\n",
       "11  Pittsburgh, PA  graduate degree   36           303625.0\n",
       "12        Ames, IA          college   31            66191.0\n",
       "13      Albany, NY  graduate degree   31            98111.0\n",
       "14   Lancaster, PA          college   31            59218.0"
      ],
      "text/html": "<div>\n<style scoped>\n    .dataframe tbody tr th:only-of-type {\n        vertical-align: middle;\n    }\n\n    .dataframe tbody tr th {\n        vertical-align: top;\n    }\n\n    .dataframe thead th {\n        text-align: right;\n    }\n</style>\n<table border=\"1\" class=\"dataframe\">\n  <thead>\n    <tr style=\"text-align: right;\">\n      <th></th>\n      <th>city</th>\n      <th>education</th>\n      <th>age</th>\n      <th>population_proper</th>\n    </tr>\n  </thead>\n  <tbody>\n    <tr>\n      <th>0</th>\n      <td>Brooklyn, NY</td>\n      <td>college</td>\n      <td>31</td>\n      <td>2629150.0</td>\n    </tr>\n    <tr>\n      <th>1</th>\n      <td>Brooklyn, NY</td>\n      <td>graduate degree</td>\n      <td>31</td>\n      <td>2629150.0</td>\n    </tr>\n    <tr>\n      <th>2</th>\n      <td>Brooklyn, NY</td>\n      <td>graduate degree</td>\n      <td>32</td>\n      <td>2629150.0</td>\n    </tr>\n    <tr>\n      <th>3</th>\n      <td>Brooklyn, NY</td>\n      <td>college</td>\n      <td>37</td>\n      <td>2629150.0</td>\n    </tr>\n    <tr>\n      <th>4</th>\n      <td>Brooklyn, NY</td>\n      <td>college</td>\n      <td>21</td>\n      <td>2629150.0</td>\n    </tr>\n    <tr>\n      <th>5</th>\n      <td>Austin, TX</td>\n      <td>college</td>\n      <td>25</td>\n      <td>947890.0</td>\n    </tr>\n    <tr>\n      <th>6</th>\n      <td>Austin, TX</td>\n      <td>graduate degree</td>\n      <td>22</td>\n      <td>947890.0</td>\n    </tr>\n    <tr>\n      <th>7</th>\n      <td>Oakland, CA</td>\n      <td>graduate degree</td>\n      <td>29</td>\n      <td>420005.0</td>\n    </tr>\n    <tr>\n      <th>8</th>\n      <td>Pittsburgh, PA</td>\n      <td>college</td>\n      <td>29</td>\n      <td>303625.0</td>\n    </tr>\n    <tr>\n      <th>9</th>\n      <td>Pittsburgh, PA</td>\n      <td>college</td>\n      <td>27</td>\n      <td>303625.0</td>\n    </tr>\n    <tr>\n      <th>10</th>\n      <td>Pittsburgh, PA</td>\n      <td>graduate degree</td>\n      <td>28</td>\n      <td>303625.0</td>\n    </tr>\n    <tr>\n      <th>11</th>\n      <td>Pittsburgh, PA</td>\n      <td>graduate degree</td>\n      <td>36</td>\n      <td>303625.0</td>\n    </tr>\n    <tr>\n      <th>12</th>\n      <td>Ames, IA</td>\n      <td>college</td>\n      <td>31</td>\n      <td>66191.0</td>\n    </tr>\n    <tr>\n      <th>13</th>\n      <td>Albany, NY</td>\n      <td>graduate degree</td>\n      <td>31</td>\n      <td>98111.0</td>\n    </tr>\n    <tr>\n      <th>14</th>\n      <td>Lancaster, PA</td>\n      <td>college</td>\n      <td>31</td>\n      <td>59218.0</td>\n    </tr>\n  </tbody>\n</table>\n</div>"
     },
     "metadata": {},
     "execution_count": 6
    }
   ],
   "source": [
    "new_df = pd.merge(user_data, pop_data)\n",
    "new_df.head(15)"
   ]
  },
  {
   "cell_type": "code",
   "execution_count": 7,
   "metadata": {},
   "outputs": [],
   "source": [
    "new_df.loc[new_df.population_proper < 100_000, \"location\"] = \"rural\""
   ]
  },
  {
   "cell_type": "code",
   "execution_count": 8,
   "metadata": {},
   "outputs": [],
   "source": [
    "new_df.loc[new_df.population_proper >= 100_000, \"location\"] = \"urban\""
   ]
  },
  {
   "cell_type": "code",
   "execution_count": 11,
   "metadata": {},
   "outputs": [
    {
     "output_type": "execute_result",
     "data": {
      "text/plain": [
       "              city        education  age  population_proper location\n",
       "0     Brooklyn, NY          college   31          2629150.0    urban\n",
       "1     Brooklyn, NY  graduate degree   31          2629150.0    urban\n",
       "2     Brooklyn, NY  graduate degree   32          2629150.0    urban\n",
       "3     Brooklyn, NY          college   37          2629150.0    urban\n",
       "4     Brooklyn, NY          college   21          2629150.0    urban\n",
       "5       Austin, TX          college   25           947890.0    urban\n",
       "6       Austin, TX  graduate degree   22           947890.0    urban\n",
       "7      Oakland, CA  graduate degree   29           420005.0    urban\n",
       "8   Pittsburgh, PA          college   29           303625.0    urban\n",
       "9   Pittsburgh, PA          college   27           303625.0    urban\n",
       "10  Pittsburgh, PA  graduate degree   28           303625.0    urban\n",
       "11  Pittsburgh, PA  graduate degree   36           303625.0    urban\n",
       "12        Ames, IA          college   31            66191.0    rural\n",
       "13      Albany, NY  graduate degree   31            98111.0    rural\n",
       "14   Lancaster, PA          college   31            59218.0    rural"
      ],
      "text/html": "<div>\n<style scoped>\n    .dataframe tbody tr th:only-of-type {\n        vertical-align: middle;\n    }\n\n    .dataframe tbody tr th {\n        vertical-align: top;\n    }\n\n    .dataframe thead th {\n        text-align: right;\n    }\n</style>\n<table border=\"1\" class=\"dataframe\">\n  <thead>\n    <tr style=\"text-align: right;\">\n      <th></th>\n      <th>city</th>\n      <th>education</th>\n      <th>age</th>\n      <th>population_proper</th>\n      <th>location</th>\n    </tr>\n  </thead>\n  <tbody>\n    <tr>\n      <th>0</th>\n      <td>Brooklyn, NY</td>\n      <td>college</td>\n      <td>31</td>\n      <td>2629150.0</td>\n      <td>urban</td>\n    </tr>\n    <tr>\n      <th>1</th>\n      <td>Brooklyn, NY</td>\n      <td>graduate degree</td>\n      <td>31</td>\n      <td>2629150.0</td>\n      <td>urban</td>\n    </tr>\n    <tr>\n      <th>2</th>\n      <td>Brooklyn, NY</td>\n      <td>graduate degree</td>\n      <td>32</td>\n      <td>2629150.0</td>\n      <td>urban</td>\n    </tr>\n    <tr>\n      <th>3</th>\n      <td>Brooklyn, NY</td>\n      <td>college</td>\n      <td>37</td>\n      <td>2629150.0</td>\n      <td>urban</td>\n    </tr>\n    <tr>\n      <th>4</th>\n      <td>Brooklyn, NY</td>\n      <td>college</td>\n      <td>21</td>\n      <td>2629150.0</td>\n      <td>urban</td>\n    </tr>\n    <tr>\n      <th>5</th>\n      <td>Austin, TX</td>\n      <td>college</td>\n      <td>25</td>\n      <td>947890.0</td>\n      <td>urban</td>\n    </tr>\n    <tr>\n      <th>6</th>\n      <td>Austin, TX</td>\n      <td>graduate degree</td>\n      <td>22</td>\n      <td>947890.0</td>\n      <td>urban</td>\n    </tr>\n    <tr>\n      <th>7</th>\n      <td>Oakland, CA</td>\n      <td>graduate degree</td>\n      <td>29</td>\n      <td>420005.0</td>\n      <td>urban</td>\n    </tr>\n    <tr>\n      <th>8</th>\n      <td>Pittsburgh, PA</td>\n      <td>college</td>\n      <td>29</td>\n      <td>303625.0</td>\n      <td>urban</td>\n    </tr>\n    <tr>\n      <th>9</th>\n      <td>Pittsburgh, PA</td>\n      <td>college</td>\n      <td>27</td>\n      <td>303625.0</td>\n      <td>urban</td>\n    </tr>\n    <tr>\n      <th>10</th>\n      <td>Pittsburgh, PA</td>\n      <td>graduate degree</td>\n      <td>28</td>\n      <td>303625.0</td>\n      <td>urban</td>\n    </tr>\n    <tr>\n      <th>11</th>\n      <td>Pittsburgh, PA</td>\n      <td>graduate degree</td>\n      <td>36</td>\n      <td>303625.0</td>\n      <td>urban</td>\n    </tr>\n    <tr>\n      <th>12</th>\n      <td>Ames, IA</td>\n      <td>college</td>\n      <td>31</td>\n      <td>66191.0</td>\n      <td>rural</td>\n    </tr>\n    <tr>\n      <th>13</th>\n      <td>Albany, NY</td>\n      <td>graduate degree</td>\n      <td>31</td>\n      <td>98111.0</td>\n      <td>rural</td>\n    </tr>\n    <tr>\n      <th>14</th>\n      <td>Lancaster, PA</td>\n      <td>college</td>\n      <td>31</td>\n      <td>59218.0</td>\n      <td>rural</td>\n    </tr>\n  </tbody>\n</table>\n</div>"
     },
     "metadata": {},
     "execution_count": 11
    }
   ],
   "source": [
    "new_df.head(15)"
   ]
  },
  {
   "cell_type": "code",
   "execution_count": null,
   "metadata": {},
   "outputs": [],
   "source": []
  }
 ]
}